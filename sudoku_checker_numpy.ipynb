{
 "cells": [
  {
   "cell_type": "code",
   "execution_count": 1,
   "id": "349515ba",
   "metadata": {},
   "outputs": [],
   "source": [
    "import numpy as np"
   ]
  },
  {
   "cell_type": "markdown",
   "id": "6c7002f1",
   "metadata": {},
   "source": [
    "# sudoku checker"
   ]
  },
  {
   "cell_type": "code",
   "execution_count": 6,
   "id": "e0fa1ef4",
   "metadata": {},
   "outputs": [
    {
     "data": {
      "text/plain": [
       "array([[8, 2, 3, 5, 8, 3, 6, 1, 1],\n",
       "       [7, 6, 5, 1, 7, 8, 8, 3, 6],\n",
       "       [2, 6, 7, 1, 8, 3, 1, 6, 1],\n",
       "       [8, 1, 4, 6, 6, 2, 1, 1, 6],\n",
       "       [7, 7, 1, 2, 3, 4, 7, 7, 7],\n",
       "       [7, 3, 2, 8, 5, 4, 6, 6, 3],\n",
       "       [3, 6, 6, 6, 7, 6, 8, 8, 8],\n",
       "       [6, 7, 8, 3, 7, 2, 5, 4, 4],\n",
       "       [8, 4, 5, 5, 2, 5, 7, 3, 2]])"
      ]
     },
     "execution_count": 6,
     "metadata": {},
     "output_type": "execute_result"
    }
   ],
   "source": [
    "#grille invalide\n",
    "grille = np.random.randint(1,9, size=(9,9))\n",
    "grille"
   ]
  },
  {
   "cell_type": "code",
   "execution_count": 3,
   "id": "c545de7b",
   "metadata": {},
   "outputs": [
    {
     "data": {
      "text/plain": [
       "array([[1, 5, 7, 4, 6, 9, 8, 3, 2],\n",
       "       [3, 9, 6, 2, 1, 8, 7, 4, 5],\n",
       "       [2, 8, 4, 7, 5, 3, 1, 9, 6],\n",
       "       [6, 7, 2, 5, 3, 1, 9, 8, 4],\n",
       "       [5, 4, 9, 8, 2, 7, 6, 1, 3],\n",
       "       [8, 3, 1, 6, 4, 9, 2, 5, 7],\n",
       "       [4, 1, 5, 9, 6, 2, 3, 7, 8],\n",
       "       [7, 6, 3, 1, 8, 5, 4, 2, 9],\n",
       "       [9, 2, 8, 3, 7, 4, 6, 5, 1]])"
      ]
     },
     "execution_count": 3,
     "metadata": {},
     "output_type": "execute_result"
    }
   ],
   "source": [
    "#grille valide\n",
    "grille_v = np.array([[1,5,7,4,6,9,8,3,2],[3,9,6,2,1,8,7,4,5],[2,8,4,7,5,3,1,9,6],[6,7,2,5,3,1,9,8,4],[5,4,9,8,2,7,6,1,3],[8,3,1,6,4,9,2,5,7],[4,1,5,9,6,2,3,7,8],[7,6,3,1,8,5,4,2,9],[9,2,8,3,7,4,6,5,1]])\n",
    "grille_v"
   ]
  },
  {
   "cell_type": "code",
   "execution_count": 4,
   "id": "72dd1fa5",
   "metadata": {},
   "outputs": [],
   "source": [
    "def verif (grid) :\n",
    "    \n",
    "    for i in range (9) : \n",
    "        x = grid[i,:]\n",
    "        y = grid[:,i]\n",
    "        X = (i//3)*3\n",
    "        Y = (i//3)*3\n",
    "        if len(set(x)) != 9 or len(set(y)) != 9 or len(set(grid[X:X+3, Y:Y+3].ravel())) != 9 :  \n",
    "            return False \n",
    "        return True  \n",
    "    \n",
    "\n"
   ]
  },
  {
   "cell_type": "code",
   "execution_count": 7,
   "id": "58152ba4",
   "metadata": {},
   "outputs": [
    {
     "data": {
      "text/plain": [
       "False"
      ]
     },
     "execution_count": 7,
     "metadata": {},
     "output_type": "execute_result"
    }
   ],
   "source": [
    "verif(grille)"
   ]
  }
 ],
 "metadata": {
  "kernelspec": {
   "display_name": "Python 3 (ipykernel)",
   "language": "python",
   "name": "python3"
  },
  "language_info": {
   "codemirror_mode": {
    "name": "ipython",
    "version": 3
   },
   "file_extension": ".py",
   "mimetype": "text/x-python",
   "name": "python",
   "nbconvert_exporter": "python",
   "pygments_lexer": "ipython3",
   "version": "3.9.13"
  }
 },
 "nbformat": 4,
 "nbformat_minor": 5
}
